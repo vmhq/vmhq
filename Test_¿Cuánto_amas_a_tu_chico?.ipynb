{
  "nbformat": 4,
  "nbformat_minor": 0,
  "metadata": {
    "colab": {
      "provenance": [],
      "authorship_tag": "ABX9TyNuuytfT2ZhW5MBy9wQ2e7k",
      "include_colab_link": true
    },
    "kernelspec": {
      "name": "python3",
      "display_name": "Python 3"
    },
    "language_info": {
      "name": "python"
    }
  },
  "cells": [
    {
      "cell_type": "markdown",
      "metadata": {
        "id": "view-in-github",
        "colab_type": "text"
      },
      "source": [
        "<a href=\"https://colab.research.google.com/github/vmhq/vmhq/blob/main/Test_%C2%BFCu%C3%A1nto_amas_a_tu_chico%3F.ipynb\" target=\"_parent\"><img src=\"https://colab.research.google.com/assets/colab-badge.svg\" alt=\"Open In Colab\"/></a>"
      ]
    },
    {
      "cell_type": "code",
      "execution_count": null,
      "metadata": {
        "id": "6LltJXymCs9k"
      },
      "outputs": [],
      "source": [
        "titulo = \"¿Cuánto amas a tu chico?\"\n",
        "\n",
        "print(\"\\n\" + titulo + \"\\n\" + \"-\" * len(titulo) + \"\\n\")\n",
        "print(\"Comenzamos con las preguntas)\" + \"\\n\")\n",
        "\n",
        "puntuacion = 0\n",
        "\n",
        "print(\"Pregunta número 1: ¿Cuánto piensas en esta persona durante el día? \\n\"\n",
        "      \"A: Rara vez \\n\" \"B: A veces \\n\" \"C: Todo el tiempo \\n\")\n",
        "\n",
        "opcion = (input(\"Ingresa tu respuesta \\n\"))\n",
        "\n",
        "if opcion == \"A\":\n",
        "    puntuacion += 0\n",
        "elif opcion == \"B\":\n",
        "    puntuacion += 5\n",
        "elif opcion == \"C\":\n",
        "    puntuacion += 10\n",
        "else:\n",
        "    print(\"Las posibles opciones son solo A, B y C\")\n",
        "    exit()\n",
        "\n",
        "print(\"Pregunta número 2:  Si esta persona necesita ayuda,\"\n",
        "      \"¿hasta qué punto estarías dispuesto a ayudar? \\n\"\n",
        "      \"A: Solo si es conveniente para mí \\n\"\n",
        "      \"B: Ayudaría, pero con ciertos límites \\n\"\n",
        "      \"C: Haría lo que fuera necesario \\n\")\n",
        "\n",
        "opcion = (input(\"Ingresa tu respuesta \\n\"))\n",
        "\n",
        "if opcion == \"A\":\n",
        "    puntuacion += 0\n",
        "elif opcion == \"B\":\n",
        "    puntuacion += 5\n",
        "elif opcion == \"C\":\n",
        "    puntuacion += 10\n",
        "else:\n",
        "    print(\"Las posibles opciones son solo A, B y C\")\n",
        "    exit()\n",
        "\n",
        "print(\"Pregunta número 3: ¿Qué sientes cuando están juntos? \\n\"\n",
        "      \"A: Nada especial \\n\"\n",
        "      \"B: Felicidad \\n\"\n",
        "      \"C:  Un sentimiento indescriptible de alegría y completitud \\n\")\n",
        "\n",
        "opcion = (input(\"Ingresa tu respuesta \\n\"))\n",
        "\n",
        "if opcion == \"A\":\n",
        "    puntuacion += 0\n",
        "elif opcion == \"B\":\n",
        "    puntuacion += 5\n",
        "elif opcion == \"C\":\n",
        "    puntuacion += 10\n",
        "else:\n",
        "    print(\"Las posibles opciones son solo A, B y C\")\n",
        "    exit()\n",
        "\n",
        "print(\"Pregunta número 4: ¿Te ves construyendo un futuro con esta persona? \\n\"\n",
        "      \"A: No lo he considerado \\n\"\n",
        "      \"B: Podría ser \\n\"\n",
        "      \"C: Absolutamente \\n\")\n",
        "\n",
        "opcion = (input(\"Ingresa tu respuesta\" + \"\\n\"))\n",
        "\n",
        "if opcion == \"A\":\n",
        "    puntuacion += 0\n",
        "elif opcion == \"B\":\n",
        "    puntuacion += 5\n",
        "elif opcion == \"C\":\n",
        "    puntuacion += 10\n",
        "else:\n",
        "    print(\"Las posibles opciones son solo A, B y C\")\n",
        "    exit()\n",
        "\n",
        "print(\"La puntuación obtenida es {} \\n\" .format(puntuacion))\n",
        "\n",
        "if puntuacion > 25:\n",
        "    print(\"Estás ultra mega enamorade. \\n\"\n",
        "          \"Lo lógico es que pidas matrimonio chiquitito.\")\n",
        "elif puntuacion >= 15:\n",
        "    print(\"Mas  o menos: Solo te gusta.\")\n",
        "else:\n",
        "    print(\"Muy muy mal, no estás enamorade. Deja de engañar.\")"
      ]
    },
    {
      "cell_type": "markdown",
      "source": [],
      "metadata": {
        "id": "G1o_6Lb3EOLr"
      }
    }
  ]
}